{
 "cells": [
  {
   "cell_type": "code",
   "execution_count": 12,
   "metadata": {},
   "outputs": [
    {
     "ename": "UndefVarError",
     "evalue": "UndefVarError: test not defined",
     "output_type": "error",
     "traceback": [
      "UndefVarError: test not defined\n",
      "\n",
      "Stacktrace:\n",
      " [1] top-level scope\n",
      "   @ ~/Desktop/College Stuff/Sem 3 & 4/sem_3/assn_3_juls.ipynb:1"
     ]
    }
   ],
   "source": [
    "println(test)"
   ]
  },
  {
   "cell_type": "code",
   "execution_count": 22,
   "metadata": {},
   "outputs": [
    {
     "ename": "ErrorException",
     "evalue": "syntax: incomplete: \"for\" at /home/pranavr/Desktop/College Stuff/Sem 3 & 4/sem_3/assn_3_juls.ipynb:1 requires end",
     "output_type": "error",
     "traceback": [
      "syntax: incomplete: \"for\" at /home/pranavr/Desktop/College Stuff/Sem 3 & 4/sem_3/assn_3_juls.ipynb:1 requires end\n",
      "\n",
      "Stacktrace:\n",
      " [1] top-level scope\n",
      "   @ ~/Desktop/College Stuff/Sem 3 & 4/sem_3/assn_3_juls.ipynb:1"
     ]
    }
   ],
   "source": [
    "for i in 1:10;\n",
    "    println(i).\n",
    "end;"
   ]
  },
  {
   "cell_type": "code",
   "execution_count": 26,
   "metadata": {},
   "outputs": [
    {
     "ename": "ErrorException",
     "evalue": "syntax: \"5\" is not a valid function argument name around /home/pranavr/Desktop/College Stuff/Sem 3 & 4/sem_3/assn_3_juls.ipynb:1",
     "output_type": "error",
     "traceback": [
      "syntax: \"5\" is not a valid function argument name around /home/pranavr/Desktop/College Stuff/Sem 3 & 4/sem_3/assn_3_juls.ipynb:1\n",
      "\n",
      "Stacktrace:\n",
      " [1] top-level scope\n",
      "   @ ~/Desktop/College Stuff/Sem 3 & 4/sem_3/assn_3_juls.ipynb:1"
     ]
    }
   ],
   "source": [
    "5x = 1\n",
    "y = 2"
   ]
  },
  {
   "cell_type": "code",
   "execution_count": 25,
   "metadata": {},
   "outputs": [
    {
     "ename": "UndefVarError",
     "evalue": "UndefVarError: xy not defined",
     "output_type": "error",
     "traceback": [
      "UndefVarError: xy not defined\n"
     ]
    }
   ],
   "source": [
    "xy"
   ]
  },
  {
   "cell_type": "code",
   "execution_count": 17,
   "metadata": {},
   "outputs": [
    {
     "data": {
      "text/plain": [
       "1"
      ]
     },
     "metadata": {},
     "output_type": "display_data"
    }
   ],
   "source": [
    "x = y = 1"
   ]
  },
  {
   "cell_type": "code",
   "execution_count": 18,
   "metadata": {},
   "outputs": [
    {
     "data": {
      "text/plain": [
       "1"
      ]
     },
     "metadata": {},
     "output_type": "display_data"
    }
   ],
   "source": [
    "x"
   ]
  },
  {
   "cell_type": "code",
   "execution_count": 19,
   "metadata": {},
   "outputs": [
    {
     "data": {
      "text/plain": [
       "1"
      ]
     },
     "metadata": {},
     "output_type": "display_data"
    }
   ],
   "source": [
    "y"
   ]
  },
  {
   "cell_type": "code",
   "execution_count": null,
   "metadata": {},
   "outputs": [],
   "source": []
  }
 ],
 "metadata": {
  "kernelspec": {
   "display_name": "Julia 1.8.3",
   "language": "julia",
   "name": "julia-1.8"
  },
  "language_info": {
   "file_extension": ".jl",
   "mimetype": "application/julia",
   "name": "julia",
   "version": "1.8.3"
  },
  "orig_nbformat": 4
 },
 "nbformat": 4,
 "nbformat_minor": 2
}
